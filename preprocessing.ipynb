{
 "cells": [
  {
   "cell_type": "code",
   "execution_count": 172,
   "id": "8ce6e73c",
   "metadata": {},
   "outputs": [],
   "source": [
    "import pandas as pd\n",
    "import requests\n",
    "import pickle\n",
    "from langchain.agents.agent_types import AgentType\n",
    "from langchain_experimental.agents.agent_toolkits import create_pandas_dataframe_agent\n",
    "from langchain_openai import ChatOpenAI\n",
    "from langchain_openai import OpenAI\n",
    "\n",
    "df = pd.read_csv(\"/Users/moksh/Desktop/NFLPlaybyPlay2015.csv\")\n",
    "agent = create_pandas_dataframe_agent(\n",
    "    ChatOpenAI(temperature=0, model=\"gpt-3.5-turbo-0613\", api_key=key),\n",
    "    df,\n",
    "    verbose=True,\n",
    "    agent_type=AgentType.OPENAI_FUNCTIONS,\n",
    ")\n",
    "agent.run(\"How many touchdowns did T.Brady throw after the bye week?\")\n",
    "headers = {\"Ocp-Apim-Subscription-Key\": \"\"}\n",
    "data = {}\n",
    "for year in range(2002,2024):\n",
    "    year_format = str(year) + \"REG\"\n",
    "    response =requests.get(f'https://api.sportsdata.io/v3/nfl/stats/json/PlayerGameStatsByWeek/{year_format}/1', headers=headers)\n",
    "    data[year] = response.json()\n",
    "    print(year)\n",
    "    \n",
    "player_ids = {}\n",
    "for dict_ in data.values():\n",
    "    df = pd.DataFrame(dict_)\n",
    "    for i,row in df.iterrows():\n",
    "        player_ids[row[\"Name\"]] = row[\"PlayerID\"]\n",
    "        \n",
    "player_ids_df = pd.DataFrame(columns=['name','id'])\n",
    "player_ids_df['id'] = player_ids.values()\n",
    "player_ids_df['first_name'] = [name.split()[0] for name in player_ids.keys()]\n",
    "player_ids_df['last_name'] = [name.split()[1] for name in player_ids.keys()]\n",
    "player_ids_df.drop(['name'], inplace=True, axis=1)\n",
    "agent = create_pandas_dataframe_agent(\n",
    "    ChatOpenAI(temperature=0, model=\"gpt-3.5-turbo-0613\", api_key=key),\n",
    "    player_ids_df,\n",
    "    verbose=True,\n",
    "    agent_type=AgentType.OPENAI_FUNCTIONS,\n",
    "    \n",
    ")\n",
    "agent.run(\"What is Johnson player id. Return just the id. If there are spelling mistakes, correct in your best judgement\")\n",
    "\n",
    "\n"
   ]
  }
 ],
 "metadata": {
  "kernelspec": {
   "display_name": "Python 3 (ipykernel)",
   "language": "python",
   "name": "python3"
  },
  "language_info": {
   "codemirror_mode": {
    "name": "ipython",
    "version": 3
   },
   "file_extension": ".py",
   "mimetype": "text/x-python",
   "name": "python",
   "nbconvert_exporter": "python",
   "pygments_lexer": "ipython3",
   "version": "3.10.6"
  }
 },
 "nbformat": 4,
 "nbformat_minor": 5
}
