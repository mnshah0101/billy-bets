{
 "cells": [
  {
   "cell_type": "code",
   "execution_count": 40,
   "id": "1e04909c",
   "metadata": {},
   "outputs": [],
   "source": [
    "import json\n",
    "import yaml"
   ]
  },
  {
   "cell_type": "code",
   "execution_count": 33,
   "id": "c3095055",
   "metadata": {},
   "outputs": [],
   "source": [
    "json_file_path = \"nfl/docs.json\"\n",
    "\n",
    "with open(json_file_path, 'r') as j:\n",
    "    contents = json.loads(j.read())"
   ]
  },
  {
   "cell_type": "code",
   "execution_count": 34,
   "id": "3b7192d0",
   "metadata": {},
   "outputs": [],
   "source": [
    "#tags\n",
    "tags = [{\"name\": tag['UniqueFunctionName'], \"description\": tag['Description']} for tag in contents['Operations']]"
   ]
  },
  {
   "cell_type": "code",
   "execution_count": 35,
   "id": "ac025c1b",
   "metadata": {},
   "outputs": [],
   "source": [
    "#paths\n",
    "paths ={}\n",
    "for path in contents['Operations']:\n",
    "    path_json = {}\n",
    "    parameters =[]\n",
    "    for parameter in path['UrlTemplateParameters']:\n",
    "        parameters.append({\"name\" : parameter[\"Name\"], \"in\":'query','description':parameter[\"Description\"], 'required':parameter['Required'],'schema': {'type': parameter['Type']}})\n",
    "    path_json[path[\"Method\"].lower()] = {\"tags\":path['Tags'], 'summary': path['Description'], \"operationId\": path['OperationID'], 'parameters':parameters}\n",
    "    \n",
    "    paths[path['Path']] = path_json\n",
    "    "
   ]
  },
  {
   "cell_type": "code",
   "execution_count": 49,
   "id": "42650962",
   "metadata": {},
   "outputs": [],
   "source": [
    "docs_dict = {\"openapi\": \"3.0.1\", \"info\": {\"version\": \"v3\",\"title\": \"Sports Data API\" },\n",
    "             \"servers\": [{\"url\": \"https://api.sportsdata.io/v3/nfl\"}],\n",
    "             'tags':tags,\n",
    "             'paths':paths\n",
    "            }"
   ]
  },
  {
   "cell_type": "code",
   "execution_count": 50,
   "id": "3e392296",
   "metadata": {},
   "outputs": [],
   "source": [
    "yaml_data = yaml.dump(docs_dict, default_flow_style=True)"
   ]
  },
  {
   "cell_type": "code",
   "execution_count": 51,
   "id": "8ef7ab9e",
   "metadata": {},
   "outputs": [],
   "source": [
    "with open('nfl/docs.yaml', 'w') as file:\n",
    "    file.write(yaml_data)"
   ]
  },
  {
   "cell_type": "code",
   "execution_count": null,
   "id": "afc37e8a",
   "metadata": {},
   "outputs": [],
   "source": [
    "with open('nfl/docs.yaml', 'w') as file:\n",
    "    file.write(yaml_data)"
   ]
  }
 ],
 "metadata": {
  "kernelspec": {
   "display_name": "Python 3 (ipykernel)",
   "language": "python",
   "name": "python3"
  },
  "language_info": {
   "codemirror_mode": {
    "name": "ipython",
    "version": 3
   },
   "file_extension": ".py",
   "mimetype": "text/x-python",
   "name": "python",
   "nbconvert_exporter": "python",
   "pygments_lexer": "ipython3",
   "version": "3.10.6"
  }
 },
 "nbformat": 4,
 "nbformat_minor": 5
}
