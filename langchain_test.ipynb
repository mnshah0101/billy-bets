{
 "cells": [
  {
   "cell_type": "code",
   "execution_count": 2,
   "id": "e1d0702f",
   "metadata": {},
   "outputs": [],
   "source": [
    "import langchain\n",
    "import \n",
    "#https://billy-bets.s3.amazonaws.com/docs.yaml"
   ]
  },
  {
   "cell_type": "code",
   "execution_count": 8,
   "id": "44d9ea21",
   "metadata": {},
   "outputs": [
    {
     "name": "stderr",
     "output_type": "stream",
     "text": [
      "Attempting to load an OpenAPI 3.0.1 spec.  This may result in degraded performance. Convert your OpenAPI spec to 3.1.* spec for better support.\n"
     ]
    },
    {
     "ename": "ValueError",
     "evalue": "Unable to parse spec from source https://raw.githubusercontent.com/mnshah0101/billy-bets/main/nfl/docs.yaml",
     "output_type": "error",
     "traceback": [
      "\u001b[0;31m---------------------------------------------------------------------------\u001b[0m",
      "\u001b[0;31mValueError\u001b[0m                                Traceback (most recent call last)",
      "Cell \u001b[0;32mIn [8], line 3\u001b[0m\n\u001b[1;32m      1\u001b[0m \u001b[38;5;28;01mfrom\u001b[39;00m \u001b[38;5;21;01mlangchain\u001b[39;00m\u001b[38;5;21;01m.\u001b[39;00m\u001b[38;5;21;01mchains\u001b[39;00m\u001b[38;5;21;01m.\u001b[39;00m\u001b[38;5;21;01mopenai_functions\u001b[39;00m\u001b[38;5;21;01m.\u001b[39;00m\u001b[38;5;21;01mopenapi\u001b[39;00m \u001b[38;5;28;01mimport\u001b[39;00m get_openapi_chain\n\u001b[0;32m----> 3\u001b[0m chain \u001b[38;5;241m=\u001b[39m \u001b[43mget_openapi_chain\u001b[49m\u001b[43m(\u001b[49m\n\u001b[1;32m      4\u001b[0m \u001b[43m    \u001b[49m\u001b[38;5;124;43m\"\u001b[39;49m\u001b[38;5;124;43mhttps://raw.githubusercontent.com/mnshah0101/billy-bets/main/nfl/docs.yaml\u001b[39;49m\u001b[38;5;124;43m\"\u001b[39;49m\n\u001b[1;32m      5\u001b[0m \u001b[43m)\u001b[49m\n\u001b[1;32m      6\u001b[0m chain(\u001b[38;5;124m\"\u001b[39m\u001b[38;5;124mWhat are some options for a men\u001b[39m\u001b[38;5;124m'\u001b[39m\u001b[38;5;124ms large blue button down shirt\u001b[39m\u001b[38;5;124m\"\u001b[39m)\n",
      "File \u001b[0;32m~/miniforge3/lib/python3.10/site-packages/langchain/chains/openai_functions/openapi.py:273\u001b[0m, in \u001b[0;36mget_openapi_chain\u001b[0;34m(spec, llm, prompt, request_chain, llm_chain_kwargs, verbose, headers, params, **kwargs)\u001b[0m\n\u001b[1;32m    271\u001b[0m             \u001b[38;5;28;01mpass\u001b[39;00m\n\u001b[1;32m    272\u001b[0m     \u001b[38;5;28;01mif\u001b[39;00m \u001b[38;5;28misinstance\u001b[39m(spec, \u001b[38;5;28mstr\u001b[39m):\n\u001b[0;32m--> 273\u001b[0m         \u001b[38;5;28;01mraise\u001b[39;00m \u001b[38;5;167;01mValueError\u001b[39;00m(\u001b[38;5;124mf\u001b[39m\u001b[38;5;124m\"\u001b[39m\u001b[38;5;124mUnable to parse spec from source \u001b[39m\u001b[38;5;132;01m{\u001b[39;00mspec\u001b[38;5;132;01m}\u001b[39;00m\u001b[38;5;124m\"\u001b[39m)\n\u001b[1;32m    274\u001b[0m openai_fns, call_api_fn \u001b[38;5;241m=\u001b[39m openapi_spec_to_openai_fn(spec)\n\u001b[1;32m    275\u001b[0m llm \u001b[38;5;241m=\u001b[39m llm \u001b[38;5;129;01mor\u001b[39;00m ChatOpenAI(\n\u001b[1;32m    276\u001b[0m     model\u001b[38;5;241m=\u001b[39m\u001b[38;5;124m\"\u001b[39m\u001b[38;5;124mgpt-3.5-turbo-0613\u001b[39m\u001b[38;5;124m\"\u001b[39m,\n\u001b[1;32m    277\u001b[0m )\n",
      "\u001b[0;31mValueError\u001b[0m: Unable to parse spec from source https://raw.githubusercontent.com/mnshah0101/billy-bets/main/nfl/docs.yaml"
     ]
    }
   ],
   "source": [
    "from langchain.chains.openai_functions.openapi import get_openapi_chain\n",
    "\n",
    "chain = get_openapi_chain(\n",
    "    \"https://raw.githubusercontent.com/mnshah0101/billy-bets/main/nfl/docs.yaml\"\n",
    ")\n",
    "chain(\"What are some options for a men's large blue button down shirt\")"
   ]
  },
  {
   "cell_type": "code",
   "execution_count": null,
   "id": "1942d587",
   "metadata": {},
   "outputs": [],
   "source": []
  }
 ],
 "metadata": {
  "kernelspec": {
   "display_name": "Python 3 (ipykernel)",
   "language": "python",
   "name": "python3"
  },
  "language_info": {
   "codemirror_mode": {
    "name": "ipython",
    "version": 3
   },
   "file_extension": ".py",
   "mimetype": "text/x-python",
   "name": "python",
   "nbconvert_exporter": "python",
   "pygments_lexer": "ipython3",
   "version": "3.10.6"
  }
 },
 "nbformat": 4,
 "nbformat_minor": 5
}
